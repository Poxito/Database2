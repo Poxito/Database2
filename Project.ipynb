{
 "cells": [
  {
   "cell_type": "markdown",
   "metadata": {},
   "source": [
    "Initialisation"
   ]
  },
  {
   "cell_type": "code",
   "execution_count": 89,
   "metadata": {},
   "outputs": [],
   "source": [
    "# required libraries\n",
    "import pandas as pd\n",
    "import os\n",
    "from pathlib import Path\n",
    "# CHECK DATE \n",
    "import datetime\n",
    "# parameters and URLs\n",
    "\n",
    "#Gotta MAKE IT GLOBAL\n",
    "path = str(Path(os.path.abspath(os.getcwd())).absolute())\n",
    "csvurl=path+'/shopping_trends_updated.csv'\n",
    "owl=path+'/cosumer_habits_ontology.rdf'\n",
    "\n",
    "# Load the required libraries\n",
    "from rdflib import Graph, Literal, RDF, URIRef, Namespace\n",
    "# rdflib knows about some namespaces, like FOAF\n",
    "from rdflib.namespace import FOAF, XSD\n",
    "TR = Namespace(\"http://www.semanticweb.org/aritz/ontologies/2023/10/costumerHabits#\")\n",
    "\n"
   ]
  },
  {
   "cell_type": "markdown",
   "metadata": {},
   "source": [
    "Importation of the CSV file"
   ]
  },
  {
   "cell_type": "code",
   "execution_count": 90,
   "metadata": {},
   "outputs": [],
   "source": [
    "# Load the CSV files in memory\n",
    "trends = pd.read_csv(csvurl, sep=',', index_col='Customer ID')"
   ]
  },
  {
   "cell_type": "markdown",
   "metadata": {},
   "source": [
    "Creation of the graph"
   ]
  },
  {
   "cell_type": "code",
   "execution_count": 91,
   "metadata": {},
   "outputs": [],
   "source": [
    "g = Graph()\n",
    "g.parse(owl, format=\"xml\")\n",
    "g.bind(\"TR\", TR)"
   ]
  },
  {
   "cell_type": "markdown",
   "metadata": {},
   "source": [
    "Cleaning of the data"
   ]
  },
  {
   "cell_type": "code",
   "execution_count": 92,
   "metadata": {},
   "outputs": [],
   "source": [
    "unique_season=trends['Season'].unique()\n",
    "unique_payment = trends['Payment Method'].unique()"
   ]
  },
  {
   "cell_type": "markdown",
   "metadata": {},
   "source": [
    "Filling the Graph"
   ]
  },
  {
   "cell_type": "code",
   "execution_count": 93,
   "metadata": {},
   "outputs": [],
   "source": [
    "\n",
    "for i in range(0,len(unique_season)):\n",
    "    Season_uri = URIRef(TR + \"Season\" + str(i))\n",
    "    g.add((Season_uri, RDF.type, TR.Season))\n",
    "    g.add((Season_uri, TR['Season'], Literal(unique_season[i], datatype=XSD.string)))\n",
    "\n",
    "for i in range(0,len(unique_payment)):\n",
    "    Payment_uri = URIRef(TR + \"Payment\" + str(i))\n",
    "    g.add((Payment_uri, RDF.type, TR.Payment))\n",
    "    g.add((Payment_uri, TR['Payment_Method'], Literal(unique_payment[i], datatype=XSD.string)))\n",
    "# Iterate over the rows of the DataFrame\n",
    "for index, row in trends.iterrows():\n",
    "    # Create a URIRef for the movie based on the 'ID' column\n",
    "    client_uri = URIRef(TR + \"Client\" + str(index))\n",
    "    # Add triples using the movie_uri\n",
    "    g.add((client_uri, RDF.type, TR.Customer))\n",
    "    #fill the Client Class\n",
    "    g.add((client_uri, TR['Age'], Literal(row['Age'], datatype=XSD.int)))\n",
    "    g.add((client_uri, TR['Gender'], Literal(row['Gender'], datatype=XSD.string)))\n",
    "    g.add((client_uri, TR['Review_Rating'], Literal(row['Review Rating'], datatype=XSD.string)))\n",
    "    g.add((client_uri, TR['Discount_Applied'], Literal(row['Discount Applied'], datatype=XSD.string)))\n",
    "\n",
    "    #fill the Habits Class\n",
    "    habits_uri = URIRef(TR + \"Habits\" + str(index))\n",
    "    g.add((habits_uri, RDF.type, TR.Habits))\n",
    "    g.add((habits_uri, TR['Previous_Purchases'], Literal(row['Previous Purchases'], datatype=XSD.int)))\n",
    "    g.add((habits_uri, TR['Frequency_of_Purchases'], Literal(row['Frequency of Purchases'], datatype=XSD.string)))\n",
    "    g.add((habits_uri, TR['Subscription_Status'], Literal(row['Subscription Status'], datatype=XSD.string)))\n",
    "    \n",
    "    #fill the Item Class\n",
    "    item_uri = URIRef(TR + \"Item\" + str(index))\n",
    "    g.add((item_uri, RDF.type, TR.Item))\n",
    "    g.add((item_uri, TR['Item'], Literal(row['Item Purchased'],datatype=XSD.string)))\n",
    "    g.add((item_uri, TR['Category'], Literal(row['Category'],datatype=XSD.string)))\n",
    "    g.add((item_uri, TR['Size'], Literal(row['Size'],datatype=XSD.string)))\n",
    "    g.add((item_uri, TR['Color'], Literal(row['Color'],datatype=XSD.string)))\n",
    "    g.add((item_uri, TR['Location'], Literal(row['Location'],datatype=XSD.string)))\n",
    "    g.add((item_uri, TR['Shipping_Method'], Literal(row['Shipping Type'],datatype=XSD.string)))\n",
    "    g.add((item_uri, TR['Promo_Code_Used'], Literal(row['Promo Code Used'], datatype=XSD.string)))\n",
    "\n",
    "    #fill the Price Class\n",
    "    Price_uri = URIRef(TR + \"Price\" + str(index))\n",
    "    g.add((Price_uri, RDF.type, TR.Price))\n",
    "    g.add((Price_uri, TR['Price'], Literal(row['Purchase Amount (USD)'], datatype=XSD.float)))\n",
    "\n",
    "    #Create the relation\n",
    "    #Client--Item\n",
    "    g.add((client_uri, TR['hasBought'], item_uri))\n",
    "    #ITEM--Price\n",
    "    g.add((item_uri, TR['hasCosted'], Price_uri))\n",
    "    #Customer--Habits\n",
    "    g.add((client_uri, TR['hasHabits'], habits_uri))\n",
    "    #Customer-Price\n",
    "    g.add((client_uri, TR['payed'], Price_uri))\n",
    "\n",
    "    for i in range(0,len(unique_payment)):\n",
    "        if(row['Payment Method']==unique_payment[i]):\n",
    "            g.add((Price_uri, TR['payedBy'], URIRef(TR + \"Payment\" + str(i))))\n",
    "\n",
    "    #Item--Season\n",
    "    for i in range(0,len(unique_season)):\n",
    "        if(row['Season']==unique_season[i]):\n",
    "            g.add((item_uri, TR['payedWhen'], URIRef(TR + \"Season\" + str(i))))\n",
    "    \n",
    "    #Habits--Payment\n",
    "    g.add((habits_uri, TR['preferedMethod'], Payment_uri))\n",
    "\n"
   ]
  },
  {
   "cell_type": "markdown",
   "metadata": {},
   "source": [
    "Serialization"
   ]
  },
  {
   "cell_type": "code",
   "execution_count": 94,
   "metadata": {},
   "outputs": [
    {
     "name": "stdout",
     "output_type": "stream",
     "text": [
      "--- saving serialization ---\n"
     ]
    }
   ],
   "source": [
    "\n",
    "print(\"--- saving serialization ---\")\n",
    "with open(path + '/Trends_file_already_created.ttl', 'w') as file:\n",
    "    file.write(g.serialize(format='turtle'))"
   ]
  }
 ],
 "metadata": {
  "kernelspec": {
   "display_name": "Python 3",
   "language": "python",
   "name": "python3"
  },
  "language_info": {
   "codemirror_mode": {
    "name": "ipython",
    "version": 3
   },
   "file_extension": ".py",
   "mimetype": "text/x-python",
   "name": "python",
   "nbconvert_exporter": "python",
   "pygments_lexer": "ipython3",
   "version": "3.11.5"
  }
 },
 "nbformat": 4,
 "nbformat_minor": 2
}
