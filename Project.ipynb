{
 "cells": [
  {
   "cell_type": "code",
   "execution_count": 3,
   "metadata": {},
   "outputs": [],
   "source": [
    "# required libraries\n",
    "import pandas as pd\n",
    "import os\n",
    "from pathlib import Path\n",
    "# CHECK DATE \n",
    "import datetime\n",
    "# parameters and URLs\n",
    "\n",
    "#Gotta MAKE IT GLOBAL\n",
    "path = str(Path(os.path.abspath(os.getcwd())).absolute())\n",
    "csvurl=path+'/shopping_trends_updated.csv'\n",
    "owl=path+'/cosumer_habits_ontology.rdf'\n",
    "savePath =  path\n",
    "\n",
    "# Load the required libraries\n",
    "from rdflib import Graph, Literal, RDF, URIRef, Namespace\n",
    "# rdflib knows about some namespaces, like FOAF\n",
    "from rdflib.namespace import FOAF, XSD\n",
    "TR = Namespace(\"http://www.semanticweb.org/aritz/ontologies/2023/10/costumerHabits#\")\n",
    "\n"
   ]
  },
  {
   "cell_type": "code",
   "execution_count": 4,
   "metadata": {},
   "outputs": [
    {
     "name": "stdout",
     "output_type": "stream",
     "text": [
      "             Age  Gender Item Purchased     Category  Purchase Amount (USD)  \\\n",
      "Customer ID                                                                   \n",
      "1             55    Male         Blouse     Clothing                     53   \n",
      "2             19    Male        Sweater     Clothing                     64   \n",
      "3             50    Male          Jeans     Clothing                     73   \n",
      "4             21    Male        Sandals     Footwear                     90   \n",
      "5             45    Male         Blouse     Clothing                     49   \n",
      "...          ...     ...            ...          ...                    ...   \n",
      "3896          40  Female         Hoodie     Clothing                     28   \n",
      "3897          52  Female       Backpack  Accessories                     49   \n",
      "3898          46  Female           Belt  Accessories                     33   \n",
      "3899          44  Female          Shoes     Footwear                     77   \n",
      "3900          52  Female        Handbag  Accessories                     81   \n",
      "\n",
      "                  Location Size      Color  Season  Review Rating  \\\n",
      "Customer ID                                                         \n",
      "1                 Kentucky    L       Gray  Winter            3.1   \n",
      "2                    Maine    L     Maroon  Winter            3.1   \n",
      "3            Massachusetts    S     Maroon  Spring            3.1   \n",
      "4             Rhode Island    M     Maroon  Spring            3.5   \n",
      "5                   Oregon    M  Turquoise  Spring            2.7   \n",
      "...                    ...  ...        ...     ...            ...   \n",
      "3896              Virginia    L  Turquoise  Summer            4.2   \n",
      "3897                  Iowa    L      White  Spring            4.5   \n",
      "3898            New Jersey    L      Green  Spring            2.9   \n",
      "3899             Minnesota    S      Brown  Summer            3.8   \n",
      "3900            California    M      Beige  Spring            3.1   \n",
      "\n",
      "            Subscription Status   Shipping Type Discount Applied  \\\n",
      "Customer ID                                                        \n",
      "1                           Yes         Express              Yes   \n",
      "2                           Yes         Express              Yes   \n",
      "3                           Yes   Free Shipping              Yes   \n",
      "4                           Yes    Next Day Air              Yes   \n",
      "5                           Yes   Free Shipping              Yes   \n",
      "...                         ...             ...              ...   \n",
      "3896                         No  2-Day Shipping               No   \n",
      "3897                         No    Store Pickup               No   \n",
      "3898                         No        Standard               No   \n",
      "3899                         No         Express               No   \n",
      "3900                         No    Store Pickup               No   \n",
      "\n",
      "            Promo Code Used  Previous Purchases Payment Method  \\\n",
      "Customer ID                                                      \n",
      "1                       Yes                  14          Venmo   \n",
      "2                       Yes                   2           Cash   \n",
      "3                       Yes                  23    Credit Card   \n",
      "4                       Yes                  49         PayPal   \n",
      "5                       Yes                  31         PayPal   \n",
      "...                     ...                 ...            ...   \n",
      "3896                     No                  32          Venmo   \n",
      "3897                     No                  41  Bank Transfer   \n",
      "3898                     No                  24          Venmo   \n",
      "3899                     No                  24          Venmo   \n",
      "3900                     No                  33          Venmo   \n",
      "\n",
      "            Frequency of Purchases  \n",
      "Customer ID                         \n",
      "1                      Fortnightly  \n",
      "2                      Fortnightly  \n",
      "3                           Weekly  \n",
      "4                           Weekly  \n",
      "5                         Annually  \n",
      "...                            ...  \n",
      "3896                        Weekly  \n",
      "3897                     Bi-Weekly  \n",
      "3898                     Quarterly  \n",
      "3899                        Weekly  \n",
      "3900                     Quarterly  \n",
      "\n",
      "[3900 rows x 17 columns]\n"
     ]
    }
   ],
   "source": [
    "# Load the CSV files in memory\n",
    "trends = pd.read_csv(csvurl, sep=',', index_col='Customer ID')\n",
    "print(trends)"
   ]
  },
  {
   "cell_type": "markdown",
   "metadata": {},
   "source": []
  },
  {
   "cell_type": "markdown",
   "metadata": {},
   "source": [
    "Person info"
   ]
  },
  {
   "cell_type": "code",
   "execution_count": 5,
   "metadata": {},
   "outputs": [
    {
     "name": "stdout",
     "output_type": "stream",
     "text": [
      "['Venmo' 'Cash' 'Credit Card' 'PayPal' 'Bank Transfer' 'Debit Card']\n"
     ]
    }
   ],
   "source": [
    "# Count the number of unique items in the \"Item Purchased\" column\n",
    "unique_payment = trends['Payment Method'].unique()\n",
    "unique_Category_count = trends['Category'].unique()\n",
    "\n",
    "item_category_mapping = {}\n",
    "\n",
    "# Iterate through the DataFrame and populate the dictionary\n",
    "for index, row in trends.iterrows():\n",
    "    item = row['Item Purchased']\n",
    "    category = row['Category']\n",
    "    size=row['Size']\n",
    "    color=row['Color']\n",
    "    location=row['Location']\n",
    "    shippingtype=row['Shipping Type']\n",
    "    \n",
    "    # Check if the item is already in the dictionary, if not, add it with its category\n",
    "    if item not in item_category_mapping:\n",
    "        item_category_mapping[item] = category\n",
    "\n",
    "print(unique_payment)\n"
   ]
  },
  {
   "cell_type": "code",
   "execution_count": 6,
   "metadata": {},
   "outputs": [],
   "source": [
    "\n",
    "g = Graph()\n",
    "g.parse(owl, format=\"xml\")\n",
    "g.bind(\"TR\", TR)\n",
    "\n",
    "\n",
    "# Iterate over the rows of the DataFrame\n",
    "for index, row in trends.iterrows():\n",
    "    # Create a URIRef for the movie based on the 'ID' column\n",
    "    client_uri = URIRef(TR + \"Client\" + str(index))\n",
    "    # Add triples using the movie_uri\n",
    "    g.add((client_uri, RDF.type, TR.Customer))\n",
    "    #fill the Client Class\n",
    "    g.add((client_uri, TR['Age'], Literal(row['Age'], datatype=XSD.int)))\n",
    "    g.add((client_uri, TR['Gender'], Literal(row['Gender'], datatype=XSD.string)))\n",
    "    g.add((client_uri, TR['Review_Rating'], Literal(row['Review Rating'], datatype=XSD.string)))\n",
    "    g.add((client_uri, TR['Discount_Applied'], Literal(row['Discount Applied'], datatype=XSD.string)))\n",
    "\n",
    "    #fill the Habits Class\n",
    "    habits_uri = URIRef(TR + \"Habits\" + str(index))\n",
    "    g.add((habits_uri, TR['Previous_Purchases'], Literal(row['Previous Purchases'], datatype=XSD.int)))\n",
    "    g.add((habits_uri, TR['Frequency_of_Purchases'], Literal(row['Frequency of Purchases'], datatype=XSD.string)))\n",
    "    g.add((habits_uri, TR['Subscription_Status'], Literal(row['Subscription Status'], datatype=XSD.string)))\n",
    "    \n",
    "    #fill the Item Class\n",
    "    item_uri = URIRef(TR + \"Item\" + str(index))\n",
    "    g.add((item_uri, RDF.type, TR.Item))\n",
    "    g.add((item_uri, TR['Item'], Literal(row['Item Purchased'],datatype=XSD.string)))\n",
    "    g.add((item_uri, TR['Category'], Literal(row['Category'],datatype=XSD.string)))\n",
    "    g.add((item_uri, TR['Size'], Literal(row['Size'],datatype=XSD.string)))\n",
    "    g.add((item_uri, TR['Color'], Literal(row['Color'],datatype=XSD.string)))\n",
    "    g.add((item_uri, TR['Location'], Literal(row['Location'],datatype=XSD.string)))\n",
    "    g.add((item_uri, TR['Shipping_Method'], Literal(row['Shipping Type'],datatype=XSD.string)))\n",
    "    g.add((item_uri, TR['Promo_Code_Used'], Literal(row['Promo Code Used'], datatype=XSD.string)))\n",
    "\n",
    "    #fill the Payment Class\n",
    "    Payment_uri = URIRef(TR + \"Payment\" + str(index))\n",
    "    g.add((Payment_uri, RDF.type, TR.Payment))\n",
    "    g.add((Payment_uri, TR['Payment_Method'], Literal(row['Payment Method'], datatype=XSD.string)))\n",
    "\n",
    "    #fill the Price Class\n",
    "    Price_uri = URIRef(TR + \"Price\" + str(index))\n",
    "    g.add((Price_uri, RDF.type, TR.Price))\n",
    "    g.add((Price_uri, TR['Price'], Literal(row['Purchase Amount (USD)'], datatype=XSD.float)))\n",
    "\n",
    "    #fill the Season Class\n",
    "    Season_uri = URIRef(TR + \"Season\" + str(index))\n",
    "    g.add((Season_uri, RDF.type, TR.Season))\n",
    "    g.add((Season_uri, TR['Season'], Literal(row['Season'], datatype=XSD.string)))\n",
    "\n",
    "    #Create the relation\n",
    "    #Client--Item\n",
    "    g.add((client_uri, TR['hasBought'], item_uri))\n",
    "    #ITEM--Price\n",
    "    g.add((item_uri, TR['hasCosted'], Price_uri))\n",
    "    #Customer--Habits\n",
    "    g.add((client_uri, TR['hasHabits'], habits_uri))\n",
    "    #Customer-Price\n",
    "    g.add((client_uri, TR['payed'], Price_uri))\n",
    "    #Price-Payment\n",
    "    g.add((Price_uri, TR['payedBy'], Payment_uri))\n",
    "    #Item--Season\n",
    "    g.add((item_uri, TR['payedWhen'], Season_uri))\n",
    "    #Habits--Payment\n",
    "    g.add((habits_uri, TR['preferedMethod'], Payment_uri))\n",
    "\n"
   ]
  },
  {
   "cell_type": "code",
   "execution_count": 9,
   "metadata": {},
   "outputs": [
    {
     "name": "stdout",
     "output_type": "stream",
     "text": [
      "c:\\Users\\PI.R\\Desktop\\Database\\Project\\Repo\n"
     ]
    }
   ],
   "source": [
    "print(savePath)"
   ]
  },
  {
   "cell_type": "code",
   "execution_count": 8,
   "metadata": {},
   "outputs": [
    {
     "name": "stdout",
     "output_type": "stream",
     "text": [
      "--- saving serialization ---\n"
     ]
    }
   ],
   "source": [
    "\n",
    "print(\"--- saving serialization ---\")\n",
    "with open(savePath + 'Trends.ttl', 'w') as file:\n",
    "    file.write(g.serialize(format='turtle'))"
   ]
  }
 ],
 "metadata": {
  "kernelspec": {
   "display_name": "Python 3",
   "language": "python",
   "name": "python3"
  },
  "language_info": {
   "codemirror_mode": {
    "name": "ipython",
    "version": 3
   },
   "file_extension": ".py",
   "mimetype": "text/x-python",
   "name": "python",
   "nbconvert_exporter": "python",
   "pygments_lexer": "ipython3",
   "version": "3.11.5"
  }
 },
 "nbformat": 4,
 "nbformat_minor": 2
}
